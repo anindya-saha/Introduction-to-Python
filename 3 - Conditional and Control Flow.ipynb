{
 "cells": [
  {
   "cell_type": "code",
   "execution_count": 2,
   "metadata": {
    "collapsed": false
   },
   "outputs": [
    {
     "name": "stdout",
     "output_type": "stream",
     "text": [
      "This is the Verbal Abuse Room, you heap of parrot droppings!\n"
     ]
    }
   ],
   "source": [
    "# Conditional Statement Syntax\n",
    "answer = \"Left\"\n",
    "if answer == \"Left\":\n",
    "    print (\"This is the Verbal Abuse Room, you heap of parrot droppings!\")"
   ]
  },
  {
   "cell_type": "code",
   "execution_count": 3,
   "metadata": {
    "collapsed": false
   },
   "outputs": [
    {
     "name": "stdout",
     "output_type": "stream",
     "text": [
      "Success #1\n",
      "Success #2\n"
     ]
    }
   ],
   "source": [
    "# if\n",
    "def using_control_once():\n",
    "    if 1 < 2:\n",
    "        return \"Success #1\"\n",
    "\n",
    "def using_control_again():\n",
    "    if 2 > 1:\n",
    "        return \"Success #2\"\n",
    "\n",
    "print (using_control_once())\n",
    "print (using_control_again())"
   ]
  },
  {
   "cell_type": "code",
   "execution_count": 4,
   "metadata": {
    "collapsed": false
   },
   "outputs": [
    {
     "name": "stdout",
     "output_type": "stream",
     "text": [
      "True\n",
      "False\n"
     ]
    }
   ],
   "source": [
    "# if else\n",
    "answer = \"'Tis but a scratch!\"\n",
    "\n",
    "def black_knight():\n",
    "    if answer == \"'Tis but a scratch!\":\n",
    "        return True\n",
    "    else:             \n",
    "        return False       # Make sure this returns False\n",
    "\n",
    "def french_soldier():\n",
    "    if answer == \"Go away, or I shall taunt you a second time!\":\n",
    "        return True\n",
    "    else:             \n",
    "        return False       # Make sure this returns False\n",
    "    \n",
    "print (black_knight())\n",
    "print (french_soldier())"
   ]
  },
  {
   "cell_type": "code",
   "execution_count": 5,
   "metadata": {
    "collapsed": false
   },
   "outputs": [
    {
     "name": "stdout",
     "output_type": "stream",
     "text": [
      "-1\n",
      "0\n",
      "1\n"
     ]
    }
   ],
   "source": [
    "# if elif\n",
    "def greater_less_equal_5(answer):\n",
    "    if answer > 5:\n",
    "        return 1\n",
    "    elif answer < 5:          \n",
    "        return -1\n",
    "    else:\n",
    "        return 0\n",
    "        \n",
    "print (greater_less_equal_5(4))\n",
    "print (greater_less_equal_5(5))\n",
    "print (greater_less_equal_5(6))"
   ]
  },
  {
   "cell_type": "code",
   "execution_count": 6,
   "metadata": {
    "collapsed": false
   },
   "outputs": [
    {
     "name": "stdout",
     "output_type": "stream",
     "text": [
      "True\n"
     ]
    }
   ],
   "source": [
    "# if elif multicondition\n",
    "\n",
    "def the_flying_circus():\n",
    "    if 1 < 2 and 2 < 3:\n",
    "        # Don't forget to indent the code inside this block!\n",
    "        return True;\n",
    "    elif 1 < 2 and not 2 < 3:\n",
    "        # You'll want to add the else statement, too!\n",
    "        return False;\n",
    "    else:\n",
    "        return True;\n",
    "\n",
    "print (the_flying_circus())"
   ]
  },
  {
   "cell_type": "markdown",
   "metadata": {},
   "source": [
    "### Pig Latin\n",
    "Pig Latin is a language game, where we move the first letter of the word to the end and add \"ay.\" So \"Python\" becomes \"ythonpay.\""
   ]
  },
  {
   "cell_type": "code",
   "execution_count": 9,
   "metadata": {
    "collapsed": false
   },
   "outputs": [
    {
     "name": "stdout",
     "output_type": "stream",
     "text": [
      "Enter a word:Python\n",
      "ythonpay\n"
     ]
    }
   ],
   "source": [
    "pyg = 'ay'\n",
    "\n",
    "original = input('Enter a word:')\n",
    "\n",
    "if len(original) > 0 and original.isalpha():\n",
    "    word = original.lower()\n",
    "    first = word[0]\n",
    "    new_word = word[1:len(word)] + first + pyg\n",
    "    print (new_word)\n",
    "else:\n",
    "    print ('empty')"
   ]
  }
 ],
 "metadata": {
  "kernelspec": {
   "display_name": "Python 3",
   "language": "python",
   "name": "python3"
  },
  "language_info": {
   "codemirror_mode": {
    "name": "ipython",
    "version": 3
   },
   "file_extension": ".py",
   "mimetype": "text/x-python",
   "name": "python",
   "nbconvert_exporter": "python",
   "pygments_lexer": "ipython3",
   "version": "3.4.3"
  }
 },
 "nbformat": 4,
 "nbformat_minor": 0
}
