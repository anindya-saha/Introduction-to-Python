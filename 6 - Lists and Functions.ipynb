{
 "cells": [
  {
   "cell_type": "markdown",
   "metadata": {},
   "source": [
    "# Lists and Functions"
   ]
  },
  {
   "cell_type": "code",
   "execution_count": 1,
   "metadata": {
    "collapsed": false
   },
   "outputs": [
    {
     "name": "stdout",
     "output_type": "stream",
     "text": [
      "3\n"
     ]
    }
   ],
   "source": [
    "# List accessing\n",
    "n = [1, 3, 5]\n",
    "\n",
    "# Add your code below\n",
    "print (n[1])"
   ]
  },
  {
   "cell_type": "code",
   "execution_count": 2,
   "metadata": {
    "collapsed": false
   },
   "outputs": [
    {
     "name": "stdout",
     "output_type": "stream",
     "text": [
      "[1, 15, 5]\n"
     ]
    }
   ],
   "source": [
    "# List element modification\n",
    "n = [1, 3, 5]\n",
    "\n",
    "# Do your multiplication here\n",
    "n[1] = n[1] * 5\n",
    "\n",
    "print (n)"
   ]
  },
  {
   "cell_type": "code",
   "execution_count": 3,
   "metadata": {
    "collapsed": false
   },
   "outputs": [
    {
     "name": "stdout",
     "output_type": "stream",
     "text": [
      "[1, 3, 5, 4]\n"
     ]
    }
   ],
   "source": [
    "# Appending to a list\n",
    "n = [1, 3, 5]\n",
    "# Append the number 4 here\n",
    "n.append(4)\n",
    "print (n)"
   ]
  },
  {
   "cell_type": "code",
   "execution_count": 4,
   "metadata": {
    "collapsed": false
   },
   "outputs": [
    {
     "name": "stdout",
     "output_type": "stream",
     "text": [
      "[3, 5]\n"
     ]
    }
   ],
   "source": [
    "# Removing elements from lists\n",
    "n = [1, 3, 5]\n",
    "# Remove the first item in the list here\n",
    "n.pop(0)\n",
    "print (n)"
   ]
  },
  {
   "cell_type": "code",
   "execution_count": 6,
   "metadata": {
    "collapsed": false
   },
   "outputs": [
    {
     "name": "stdout",
     "output_type": "stream",
     "text": [
      "[3, 5, 7]\n"
     ]
    }
   ],
   "source": [
    "# Passing a list to a function\n",
    "def list_function(x):\n",
    "    return x\n",
    "\n",
    "n = [3, 5, 7]\n",
    "print (list_function(n))"
   ]
  },
  {
   "cell_type": "code",
   "execution_count": 7,
   "metadata": {
    "collapsed": false
   },
   "outputs": [
    {
     "name": "stdout",
     "output_type": "stream",
     "text": [
      "5\n"
     ]
    }
   ],
   "source": [
    "# Using an element from a list in a function\n",
    "def list_function(x):\n",
    "    return x[1]\n",
    "\n",
    "n = [3, 5, 7]\n",
    "print (list_function(n))"
   ]
  },
  {
   "cell_type": "code",
   "execution_count": 8,
   "metadata": {
    "collapsed": false
   },
   "outputs": [
    {
     "name": "stdout",
     "output_type": "stream",
     "text": [
      "[3, 8, 7]\n"
     ]
    }
   ],
   "source": [
    "# Modifying an element of a list in a function\n",
    "def list_function(x):\n",
    "    x[1] = x[1] + 3\n",
    "    return x\n",
    "\n",
    "n = [3, 5, 7]\n",
    "print (list_function(n))"
   ]
  },
  {
   "cell_type": "code",
   "execution_count": null,
   "metadata": {
    "collapsed": true
   },
   "outputs": [],
   "source": [
    "# List manipulation in functions\n",
    "n = [3, 5, 7]\n",
    "# Add your function here\n",
    "\n",
    "def list_extender(n):\n",
    "    n.append(9)\n",
    "    return n\n",
    "\n",
    "print (list_extender(n))"
   ]
  },
  {
   "cell_type": "code",
   "execution_count": 9,
   "metadata": {
    "collapsed": false
   },
   "outputs": [
    {
     "name": "stdout",
     "output_type": "stream",
     "text": [
      "3\n",
      "5\n",
      "7\n"
     ]
    }
   ],
   "source": [
    "# Printing out a list item by item in a function\n",
    "n = [3, 5, 7]\n",
    "\n",
    "def print_list(x):\n",
    "    for i in range(0, len(x)):\n",
    "        print (x[i])\n",
    "print_list(n)"
   ]
  },
  {
   "cell_type": "code",
   "execution_count": 10,
   "metadata": {
    "collapsed": false
   },
   "outputs": [
    {
     "name": "stdout",
     "output_type": "stream",
     "text": [
      "[6, 10, 14]\n"
     ]
    }
   ],
   "source": [
    "# Modifying each element in a list in a function\n",
    "n = [3, 5, 7]\n",
    "\n",
    "def double_list(x):\n",
    "    for i in range(0, len(x)):\n",
    "        x[i] = x[i] * 2\n",
    "    return x\n",
    "# Don't forget to return your new list!\n",
    "\n",
    "print (double_list(n))"
   ]
  },
  {
   "cell_type": "code",
   "execution_count": 15,
   "metadata": {
    "collapsed": false
   },
   "outputs": [
    {
     "name": "stdout",
     "output_type": "stream",
     "text": [
      "[0, 2, 4]\n"
     ]
    }
   ],
   "source": [
    "# Passing a range into a function\n",
    "def my_function(x):\n",
    "    for i in range(0, len(x)):\n",
    "        x[i] = x[i] * 2\n",
    "    return x\n",
    "\n",
    "print (my_function(list(range(0,3)))) # Add your range between the parentheses"
   ]
  },
  {
   "cell_type": "code",
   "execution_count": 16,
   "metadata": {
    "collapsed": true
   },
   "outputs": [],
   "source": [
    "# Iterating over a list in a function\n",
    "n = [3, 5, 7]\n",
    "\n",
    "def total(numbers):\n",
    "    result = 0\n",
    "    for number in numbers:\n",
    "        result = result + number\n",
    "    return result"
   ]
  },
  {
   "cell_type": "code",
   "execution_count": 17,
   "metadata": {
    "collapsed": false
   },
   "outputs": [
    {
     "name": "stdout",
     "output_type": "stream",
     "text": [
      "MichaelLieberman\n"
     ]
    }
   ],
   "source": [
    "# Using strings in lists in functions\n",
    "n = [\"Michael\", \"Lieberman\"]\n",
    "# Add your function here\n",
    "\n",
    "def join_strings(words):\n",
    "    result = \"\"\n",
    "    for word in words:\n",
    "        result = result + word\n",
    "        \n",
    "    return result   \n",
    "\n",
    "print (join_strings(n))"
   ]
  },
  {
   "cell_type": "code",
   "execution_count": 18,
   "metadata": {
    "collapsed": false
   },
   "outputs": [
    {
     "name": "stdout",
     "output_type": "stream",
     "text": [
      "[1, 2, 3, 4, 5, 6]\n"
     ]
    }
   ],
   "source": [
    "# Using two lists as two arguments in a function\n",
    "m = [1, 2, 3]\n",
    "n = [4, 5, 6]\n",
    "\n",
    "# Add your code here!\n",
    "\n",
    "def join_lists(x, y):\n",
    "    return x + y\n",
    "\n",
    "# We want this to print [1, 2, 3, 4, 5, 6]\n",
    "print (join_lists(m, n))"
   ]
  },
  {
   "cell_type": "code",
   "execution_count": 19,
   "metadata": {
    "collapsed": false
   },
   "outputs": [
    {
     "name": "stdout",
     "output_type": "stream",
     "text": [
      "[1, 2, 3, 4, 5, 6, 7, 8, 9]\n"
     ]
    }
   ],
   "source": [
    "# Using a list of lists in a function\n",
    "n = [[1, 2, 3], [4, 5, 6, 7, 8, 9]]\n",
    "# Add your function here\n",
    "def flatten(lists):\n",
    "    results = []\n",
    "    for a in lists: \n",
    "        for b in a:\n",
    "            results.append(b)\n",
    "    return results\n",
    "print (flatten(n))"
   ]
  },
  {
   "cell_type": "markdown",
   "metadata": {},
   "source": [
    "### Welcome to Battleship!\n",
    "In this project we will build a simplified, one-player version of the classic board game Battleship! In this version of the game, there will be a single ship hidden in a random location on a 5x5 grid. The player will have 10 guesses to try to sink the ship.\n",
    "\n",
    "To build this game we will use our knowledge of lists, conditionals and functions in Python."
   ]
  },
  {
   "cell_type": "code",
   "execution_count": 25,
   "metadata": {
    "collapsed": false
   },
   "outputs": [
    {
     "name": "stdout",
     "output_type": "stream",
     "text": [
      "Let's play Battleship!\n",
      "O O O O O\n",
      "O O O O O\n",
      "O O O O O\n",
      "O O O O O\n",
      "O O O O O\n",
      "Turn 1\n",
      "Guess Row:1\n",
      "Guess Col:4\n",
      "You missed my battleship!\n",
      "O O O O O\n",
      "O O O O X\n",
      "O O O O O\n",
      "O O O O O\n",
      "O O O O O\n",
      "Turn 2\n",
      "Guess Row:2\n",
      "Guess Col:3\n",
      "You missed my battleship!\n",
      "O O O O O\n",
      "O O O O X\n",
      "O O O X O\n",
      "O O O O O\n",
      "O O O O O\n",
      "Turn 3\n",
      "Guess Row:1\n",
      "Guess Col:2\n",
      "You missed my battleship!\n",
      "O O O O O\n",
      "O O X O X\n",
      "O O O X O\n",
      "O O O O O\n",
      "O O O O O\n",
      "Turn 4\n",
      "Guess Row:4\n",
      "Guess Col:5\n",
      "Game Over\n",
      "Oops, that's not even in the ocean.\n",
      "O O O O O\n",
      "O O X O X\n",
      "O O O X O\n",
      "O O O O O\n",
      "O O O O O\n"
     ]
    }
   ],
   "source": [
    "from random import randint\n",
    "\n",
    "board = []\n",
    "\n",
    "for x in range(5):\n",
    "    board.append([\"O\"] * 5)\n",
    "\n",
    "def print_board(board):\n",
    "    for row in board:\n",
    "        print (\" \".join(row))\n",
    "\n",
    "print (\"Let's play Battleship!\")\n",
    "print_board(board)\n",
    "\n",
    "def random_row(board):\n",
    "    return randint(0, len(board) - 1)\n",
    "\n",
    "def random_col(board):\n",
    "    return randint(0, len(board[0]) - 1)\n",
    "\n",
    "ship_row = random_row(board)\n",
    "ship_col = random_col(board)\n",
    "# print ship_row\n",
    "# print ship_col\n",
    "\n",
    "# Everything from here on should go in your for loop!\n",
    "# Be sure to indent four spaces!\n",
    "for turn in range(4):\n",
    "    print (\"Turn\", turn + 1)\n",
    "    guess_row = int(input(\"Guess Row:\"))\n",
    "    guess_col = int(input(\"Guess Col:\"))\n",
    "    \n",
    "    if guess_row == ship_row and guess_col == ship_col:\n",
    "        print (\"Congratulations! You sunk my battleship!\")\n",
    "        break\n",
    "    else:\n",
    "        if turn == 3:\n",
    "            print (\"Game Over\")\n",
    "        if (guess_row < 0 or guess_row > 4) or (guess_col < 0 or guess_col > 4):\n",
    "            print (\"Oops, that's not even in the ocean.\")\n",
    "        elif(board[guess_row][guess_col] == \"X\"):\n",
    "            print (\"You guessed that one already.\")\n",
    "        else:\n",
    "            print (\"You missed my battleship!\")\n",
    "            board[guess_row][guess_col] = \"X\"\n",
    "        # Print (turn + 1) here!\n",
    "        print_board(board)"
   ]
  }
 ],
 "metadata": {
  "kernelspec": {
   "display_name": "Python 3",
   "language": "python",
   "name": "python3"
  },
  "language_info": {
   "codemirror_mode": {
    "name": "ipython",
    "version": 3
   },
   "file_extension": ".py",
   "mimetype": "text/x-python",
   "name": "python",
   "nbconvert_exporter": "python",
   "pygments_lexer": "ipython3",
   "version": "3.4.3"
  }
 },
 "nbformat": 4,
 "nbformat_minor": 0
}
