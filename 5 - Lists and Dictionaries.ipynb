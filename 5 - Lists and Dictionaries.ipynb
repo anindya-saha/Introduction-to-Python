{
 "cells": [
  {
   "cell_type": "markdown",
   "metadata": {},
   "source": [
    "# Lists"
   ]
  },
  {
   "cell_type": "code",
   "execution_count": 5,
   "metadata": {
    "collapsed": false
   },
   "outputs": [
    {
     "name": "stdout",
     "output_type": "stream",
     "text": [
      "Adding the numbers at indices 0 and 2...\n",
      "12\n",
      "Adding the numbers at indices 1 and 3...\n",
      "14\n"
     ]
    }
   ],
   "source": [
    "# Access by Index\n",
    "\n",
    "numbers = [5, 6, 7, 8]\n",
    "\n",
    "print (\"Adding the numbers at indices 0 and 2...\")\n",
    "print (numbers[0] + numbers[2])\n",
    "print (\"Adding the numbers at indices 1 and 3...\")\n",
    "print (numbers[1] + numbers[3])"
   ]
  },
  {
   "cell_type": "code",
   "execution_count": 6,
   "metadata": {
    "collapsed": true
   },
   "outputs": [],
   "source": [
    "# New Neighbors\n",
    "zoo_animals = [\"pangolin\", \"cassowary\", \"sloth\", \"tiger\"]\n",
    "# Last night our zoo's sloth brutally attacked \n",
    "#the poor tiger and ate it whole.\n",
    "\n",
    "# The ferocious sloth has been replaced by a friendly hyena.\n",
    "zoo_animals[2] = \"hyena\"\n",
    "\n",
    "# What shall fill the void left by our dear departed tiger?\n",
    "# Your code here!\n",
    "zoo_animals[3] = \"bear\""
   ]
  },
  {
   "cell_type": "markdown",
   "metadata": {},
   "source": [
    "## List capabilities and functions"
   ]
  },
  {
   "cell_type": "code",
   "execution_count": 7,
   "metadata": {
    "collapsed": false
   },
   "outputs": [
    {
     "name": "stdout",
     "output_type": "stream",
     "text": [
      "There are 4 items in the suitcase.\n",
      "['sunglasses', 'shirts', 'pants', 'socks']\n"
     ]
    }
   ],
   "source": [
    "# Adding to a list\n",
    "suitcase = [] \n",
    "suitcase.append(\"sunglasses\")\n",
    "\n",
    "# Your code here!\n",
    "suitcase.append(\"shirts\")\n",
    "suitcase.append(\"pants\")\n",
    "suitcase.append(\"socks\")\n",
    "\n",
    "list_length = len(suitcase) # Set this to the length of suitcase\n",
    "\n",
    "print (\"There are %d items in the suitcase.\" % (list_length))\n",
    "print (suitcase)"
   ]
  },
  {
   "cell_type": "code",
   "execution_count": 20,
   "metadata": {
    "collapsed": false
   },
   "outputs": [
    {
     "name": "stdout",
     "output_type": "stream",
     "text": [
      "['xylophone', 'tent', 'bread loaf']\n"
     ]
    }
   ],
   "source": [
    "# Deleting from a list\n",
    "backpack = ['xylophone', 'dagger', 'tent', 'bread loaf']\n",
    "backpack.remove('dagger')\n",
    "print (backpack)"
   ]
  },
  {
   "cell_type": "code",
   "execution_count": 8,
   "metadata": {
    "collapsed": true
   },
   "outputs": [],
   "source": [
    "# List Slicing\n",
    "suitcase = [\"sunglasses\", \"hat\", \"passport\", \"laptop\", \"suit\", \"shoes\"]\n",
    "\n",
    "first  = suitcase[0:2]  # The first and second items (index zero and one)\n",
    "middle = suitcase[2:4]  # Third and fourth items (index two and three)\n",
    "last   = suitcase[4:6]  # The last two items (index four and five)"
   ]
  },
  {
   "cell_type": "code",
   "execution_count": 9,
   "metadata": {
    "collapsed": true
   },
   "outputs": [],
   "source": [
    "# Slicing Lists and Strings\n",
    "animals = \"catdogfrog\"\n",
    "cat  = animals[:3]   # The first three characters of animals\n",
    "dog  = animals[3:6]   # The fourth through sixth characters\n",
    "frog = animals[6:]   # From the seventh character to the end"
   ]
  },
  {
   "cell_type": "code",
   "execution_count": 11,
   "metadata": {
    "collapsed": false
   },
   "outputs": [
    {
     "name": "stdout",
     "output_type": "stream",
     "text": [
      "['aardvark', 'badger', 'cobra', 'duck', 'emu', 'fennec fox']\n"
     ]
    }
   ],
   "source": [
    "# Maintaining Order\n",
    "animals = [\"aardvark\", \"badger\", \"duck\", \"emu\", \"fennec fox\"]\n",
    "duck_index = animals.index(\"duck\")  # Use index() to find \"duck\"\n",
    "\n",
    "# Your code here!\n",
    "animals.insert(duck_index, \"cobra\")\n",
    "\n",
    "print (animals) # Observe what prints after the insert operation"
   ]
  },
  {
   "cell_type": "code",
   "execution_count": 12,
   "metadata": {
    "collapsed": false
   },
   "outputs": [
    {
     "name": "stdout",
     "output_type": "stream",
     "text": [
      "2\n",
      "18\n",
      "6\n",
      "16\n",
      "10\n",
      "14\n"
     ]
    }
   ],
   "source": [
    "# For One and All\n",
    "my_list = [1,9,3,8,5,7]\n",
    "\n",
    "for number in my_list:\n",
    "    print (2 * number)"
   ]
  },
  {
   "cell_type": "code",
   "execution_count": 13,
   "metadata": {
    "collapsed": false
   },
   "outputs": [
    {
     "name": "stdout",
     "output_type": "stream",
     "text": [
      "[1, 4, 9, 16, 25]\n"
     ]
    }
   ],
   "source": [
    "# using for with lists\n",
    "start_list = [5, 3, 1, 2, 4]\n",
    "square_list = []\n",
    "\n",
    "# Your code here!\n",
    "for number in start_list:\n",
    "    square_list.append(number ** 2)\n",
    "\n",
    "square_list.sort()\n",
    "print (square_list)"
   ]
  },
  {
   "cell_type": "markdown",
   "metadata": {},
   "source": [
    "# Dictionaries"
   ]
  },
  {
   "cell_type": "code",
   "execution_count": 14,
   "metadata": {
    "collapsed": false
   },
   "outputs": [
    {
     "name": "stdout",
     "output_type": "stream",
     "text": [
      "104\n",
      "105\n",
      "106\n"
     ]
    }
   ],
   "source": [
    "# Assigning a dictionary with three key-value pairs to residents:\n",
    "residents = {'Puffin' : 104, 'Sloth' : 105, 'Burmese Python' : 106}\n",
    "\n",
    "print (residents['Puffin']) # Prints Puffin's room number\n",
    "print (residents['Sloth'])\n",
    "print (residents['Burmese Python'])"
   ]
  },
  {
   "cell_type": "code",
   "execution_count": 16,
   "metadata": {
    "collapsed": false
   },
   "outputs": [
    {
     "name": "stdout",
     "output_type": "stream",
     "text": [
      "14.5\n",
      "There are 4 items on the menu.\n",
      "{'Alfredo': 14.5, 'sfs': 14.5, 'Chicken Alfredo': 14.5, 'Chick': 14.5}\n"
     ]
    }
   ],
   "source": [
    "# Adding New Entries\n",
    "menu = {} # Empty dictionary\n",
    "menu['Chicken Alfredo'] = 14.50 # Adding new key-value pair\n",
    "print (menu['Chicken Alfredo'])\n",
    "\n",
    "# Your code here: Add some dish-price pairs to menu!\n",
    "menu['sfs'] = 14.50\n",
    "menu['Alfredo'] = 14.50\n",
    "menu['Chick'] = 14.50\n",
    "\n",
    "print (\"There are \" + str(len(menu)) + \" items on the menu.\")\n",
    "print (menu)"
   ]
  },
  {
   "cell_type": "code",
   "execution_count": 19,
   "metadata": {
    "collapsed": false
   },
   "outputs": [
    {
     "name": "stdout",
     "output_type": "stream",
     "text": [
      "{'Rockhopper Penguin': 'Antarctic Exhibit', 'Atlantic Puffin': 'Arctic Exhibit'}\n"
     ]
    }
   ],
   "source": [
    "# deleting Entries\n",
    "# key - animal_name : value - location \n",
    "zoo_animals = { 'Unicorn' : 'Cotton Candy House',\n",
    "'Sloth' : 'Rainforest Exhibit',\n",
    "'Bengal Tiger' : 'Jungle House',\n",
    "'Atlantic Puffin' : 'Arctic Exhibit',\n",
    "'Rockhopper Penguin' : 'Arctic Exhibit'}\n",
    "# A dictionary (or list) declaration may break across multiple lines\n",
    "\n",
    "# Removing the 'Unicorn' entry. (Unicorns are incredibly expensive.)\n",
    "del zoo_animals['Unicorn']\n",
    "\n",
    "# Your code here!\n",
    "del zoo_animals['Sloth']\n",
    "del zoo_animals['Bengal Tiger']\n",
    "\n",
    "zoo_animals['Rockhopper Penguin'] = 'Antarctic Exhibit'\n",
    "print (zoo_animals)"
   ]
  },
  {
   "cell_type": "code",
   "execution_count": 21,
   "metadata": {
    "collapsed": true
   },
   "outputs": [],
   "source": [
    "# All operations\n",
    "inventory = {\n",
    "    'gold' : 500,\n",
    "    'pouch' : ['flint', 'twine', 'gemstone'], # Assigned a new list to 'pouch' key\n",
    "    'backpack' : ['xylophone','dagger', 'bedroll','bread loaf']\n",
    "}\n",
    "\n",
    "# Adding a key 'burlap bag' and assigning a list to it\n",
    "inventory['burlap bag'] = ['apple', 'small ruby', 'three-toed sloth']\n",
    "\n",
    "# Sorting the list found under the key 'pouch'\n",
    "inventory['pouch'].sort() \n",
    "\n",
    "# Your code here\n",
    "inventory['pocket'] = ['seashell', 'strange berry', 'lint']\n",
    "inventory['backpack'].sort()\n",
    "inventory['backpack'].remove('dagger')\n",
    "inventory['gold'] = inventory['gold'] + 50"
   ]
  },
  {
   "cell_type": "code",
   "execution_count": 24,
   "metadata": {
    "collapsed": false
   },
   "outputs": [
    {
     "name": "stdout",
     "output_type": "stream",
     "text": [
      "24\n",
      "0\n",
      "45\n",
      "48.0\n",
      "117.0\n"
     ]
    }
   ],
   "source": [
    "# Owning a store\n",
    "prices = {\n",
    "    \"banana\" : 4,\n",
    "    \"apple\"  : 2,\n",
    "    \"orange\" : 1.5,\n",
    "    \"pear\"   : 3,\n",
    "}\n",
    "stock = {\n",
    "    \"banana\" : 6,\n",
    "    \"apple\"  : 0,\n",
    "    \"orange\" : 32,\n",
    "    \"pear\"   : 15,\n",
    "}\n",
    "\n",
    "total = 0\n",
    "for key in prices:\n",
    "    p = prices[key] * stock[key]\n",
    "    print (p)\n",
    "    total = total + p\n",
    "\n",
    "print (total)"
   ]
  },
  {
   "cell_type": "code",
   "execution_count": 25,
   "metadata": {
    "collapsed": true
   },
   "outputs": [],
   "source": [
    "# shopping trip\n",
    "shopping_list = [\"banana\", \"orange\", \"apple\"]\n",
    "\n",
    "stock = {\n",
    "    \"banana\": 6,\n",
    "    \"apple\": 0,\n",
    "    \"orange\": 32,\n",
    "    \"pear\": 15\n",
    "}\n",
    "    \n",
    "prices = {\n",
    "    \"banana\": 4,\n",
    "    \"apple\": 2,\n",
    "    \"orange\": 1.5,\n",
    "    \"pear\": 3\n",
    "}\n",
    "\n",
    "# Write your code below!\n",
    "def compute_bill(food):\n",
    "    total = 0\n",
    "    for f in food:\n",
    "        if stock[f] > 0:\n",
    "            total = total + prices[f]\n",
    "            stock[f] = stock[f] - 1\n",
    "    return total"
   ]
  },
  {
   "cell_type": "code",
   "execution_count": 26,
   "metadata": {
    "collapsed": false
   },
   "outputs": [
    {
     "name": "stdout",
     "output_type": "stream",
     "text": [
      "83.86666666666666\n",
      "B\n"
     ]
    }
   ],
   "source": [
    "# Maintaining Student Records\n",
    "lloyd = {\n",
    "    \"name\": \"Lloyd\",\n",
    "    \"homework\": [90.0, 97.0, 75.0, 92.0],\n",
    "    \"quizzes\": [88.0, 40.0, 94.0],\n",
    "    \"tests\": [75.0, 90.0]\n",
    "}\n",
    "alice = {\n",
    "    \"name\": \"Alice\",\n",
    "    \"homework\": [100.0, 92.0, 98.0, 100.0],\n",
    "    \"quizzes\": [82.0, 83.0, 91.0],\n",
    "    \"tests\": [89.0, 97.0]\n",
    "}\n",
    "tyler = {\n",
    "    \"name\": \"Tyler\",\n",
    "    \"homework\": [0.0, 87.0, 75.0, 22.0],\n",
    "    \"quizzes\": [0.0, 75.0, 78.0],\n",
    "    \"tests\": [100.0, 100.0]\n",
    "}\n",
    "\n",
    "# Add your function below!\n",
    "def average(numbers):\n",
    "    total = sum(numbers)\n",
    "    return float(total) / len(numbers)\n",
    "    \n",
    "def get_average(student):\n",
    "    homework = average(student[\"homework\"])\n",
    "    quizzes = average(student[\"quizzes\"])\n",
    "    tests = average(student[\"tests\"])\n",
    "    return 0.1 * homework + 0.3 * quizzes + 0.6 * tests\n",
    "\n",
    "def get_class_average(students):\n",
    "    results = []\n",
    "    for student in students:\n",
    "        result = get_average(student)\n",
    "        results.append(result)\n",
    "    return average(results)\n",
    "    \n",
    "def get_letter_grade(score):\n",
    "    if score >= 90:\n",
    "        return \"A\"\n",
    "    elif score >= 80:\n",
    "        return \"B\"\n",
    "    elif score >= 70:\n",
    "        return \"C\"\n",
    "    elif score >= 60:\n",
    "        return \"D\"\n",
    "    else:\n",
    "        return \"F\" \n",
    "\n",
    "class_average = get_class_average([lloyd, alice, tyler])\n",
    "print (class_average)\n",
    "print (get_letter_grade(class_average))"
   ]
  }
 ],
 "metadata": {
  "kernelspec": {
   "display_name": "Python 3",
   "language": "python",
   "name": "python3"
  },
  "language_info": {
   "codemirror_mode": {
    "name": "ipython",
    "version": 3
   },
   "file_extension": ".py",
   "mimetype": "text/x-python",
   "name": "python",
   "nbconvert_exporter": "python",
   "pygments_lexer": "ipython3",
   "version": "3.4.3"
  }
 },
 "nbformat": 4,
 "nbformat_minor": 0
}
