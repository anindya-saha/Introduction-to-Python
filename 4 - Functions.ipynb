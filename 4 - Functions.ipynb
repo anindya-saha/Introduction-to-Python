{
 "cells": [
  {
   "cell_type": "markdown",
   "metadata": {},
   "source": [
    "# Functions"
   ]
  },
  {
   "cell_type": "code",
   "execution_count": 1,
   "metadata": {
    "collapsed": true
   },
   "outputs": [],
   "source": [
    "def cube(number):\n",
    "    return number ** 3\n",
    "    \n",
    "def by_three(number):\n",
    "    if number % 3 == 0:\n",
    "        return cube(number)\n",
    "    else:\n",
    "        return False"
   ]
  },
  {
   "cell_type": "code",
   "execution_count": 2,
   "metadata": {
    "collapsed": false
   },
   "outputs": [
    {
     "data": {
      "text/plain": [
       "\"YOU'RE SHOUTING!\""
      ]
     },
     "execution_count": 2,
     "metadata": {},
     "output_type": "execute_result"
    }
   ],
   "source": [
    "def shout(phrase):\n",
    "    if phrase == phrase.upper():\n",
    "        return \"YOU'RE SHOUTING!\"\n",
    "    else:\n",
    "        return \"Can you speak up?\"\n",
    "\n",
    "shout(\"I'M INTERESTED IN SHOUTING\")"
   ]
  },
  {
   "cell_type": "markdown",
   "metadata": {},
   "source": [
    "### Generic Imports\n",
    "When you simply import a module, it's called a generic import"
   ]
  },
  {
   "cell_type": "code",
   "execution_count": 3,
   "metadata": {
    "collapsed": false
   },
   "outputs": [
    {
     "name": "stdout",
     "output_type": "stream",
     "text": [
      "5.0\n"
     ]
    }
   ],
   "source": [
    "import math\n",
    "\n",
    "print (math.sqrt(25))"
   ]
  },
  {
   "cell_type": "markdown",
   "metadata": {},
   "source": [
    "### Function Imports\n",
    "It's possible to import only certain variables or functions from a given module. Pulling in just a single function from a module is called a function import, and it's done with the from keyword"
   ]
  },
  {
   "cell_type": "code",
   "execution_count": 5,
   "metadata": {
    "collapsed": false
   },
   "outputs": [
    {
     "name": "stdout",
     "output_type": "stream",
     "text": [
      "5.0\n"
     ]
    }
   ],
   "source": [
    "# Import *just* the sqrt function from math\n",
    "from math import sqrt\n",
    "\n",
    "print (sqrt(25))"
   ]
  },
  {
   "cell_type": "markdown",
   "metadata": {},
   "source": [
    "### Universal Imports\n",
    "Universal imports may look great on the surface, but they're not a good idea for one very important reason: they fill your program with a ton of variable and function names without the safety of those names still being associated with the module(s) they came from.\n",
    "\n",
    "If you have a function of your very own named sqrt and you import math, your function is safe: there is your sqrt and there is math.sqrt. If you do from math import *, however, you have a problem: namely, two different functions with the exact same name.\n",
    "\n",
    "Even if your own definitions don't directly conflict with names from imported modules, if you import * from several modules at once, you won't be able to figure out which variable or function came from where.\n",
    "\n",
    "For these reasons, it's best to stick with either import module and type module.name or just import specific variables and functions from various modules as needed."
   ]
  },
  {
   "cell_type": "code",
   "execution_count": 7,
   "metadata": {
    "collapsed": false
   },
   "outputs": [
    {
     "name": "stdout",
     "output_type": "stream",
     "text": [
      "5.0\n"
     ]
    }
   ],
   "source": [
    "# Import *everything* from the math module\n",
    "\n",
    "from math import *\n",
    "\n",
    "print (sqrt(25))"
   ]
  },
  {
   "cell_type": "markdown",
   "metadata": {},
   "source": [
    "## Built-in Functions"
   ]
  },
  {
   "cell_type": "code",
   "execution_count": 9,
   "metadata": {
    "collapsed": false
   },
   "outputs": [
    {
     "name": "stdout",
     "output_type": "stream",
     "text": [
      "10\n",
      "-10\n",
      "10\n"
     ]
    },
    {
     "data": {
      "text/plain": [
       "10"
      ]
     },
     "execution_count": 9,
     "metadata": {},
     "output_type": "execute_result"
    }
   ],
   "source": [
    "def biggest_number(*args):\n",
    "    print (max(args))\n",
    "    return max(args)\n",
    "    \n",
    "def smallest_number(*args):\n",
    "    print (min(args))\n",
    "    return min(args)\n",
    "\n",
    "def distance_from_zero(arg):\n",
    "    print (abs(arg))\n",
    "    return abs(arg)\n",
    "\n",
    "\n",
    "biggest_number(-10, -5, 5, 10)\n",
    "smallest_number(-10, -5, 5, 10)\n",
    "distance_from_zero(-10)"
   ]
  },
  {
   "cell_type": "code",
   "execution_count": 11,
   "metadata": {
    "collapsed": false
   },
   "outputs": [
    {
     "name": "stdout",
     "output_type": "stream",
     "text": [
      "<class 'int'>\n",
      "<class 'float'>\n",
      "<class 'str'>\n"
     ]
    }
   ],
   "source": [
    "# Print out the types of an integer, a float,\n",
    "# and a string on separate lines below.\n",
    "print (type(1))\n",
    "print (type(1.0))\n",
    "print (type('1'))"
   ]
  },
  {
   "cell_type": "code",
   "execution_count": 12,
   "metadata": {
    "collapsed": true
   },
   "outputs": [],
   "source": [
    "def distance_from_zero(arg):\n",
    "    if type(arg) == int or type(arg) == float:\n",
    "        return abs(arg)\n",
    "    else:\n",
    "        return \"Nope\""
   ]
  },
  {
   "cell_type": "code",
   "execution_count": 13,
   "metadata": {
    "collapsed": false
   },
   "outputs": [
    {
     "name": "stdout",
     "output_type": "stream",
     "text": [
      "1955\n"
     ]
    }
   ],
   "source": [
    "# Trip Planner\n",
    "def hotel_cost(nights):\n",
    "    return 140 * nights\n",
    "\n",
    "def plane_ride_cost(city):\n",
    "     if city == \"Charlotte\":\n",
    "        return 183\n",
    "     elif city == \"Tampa\":\n",
    "        return 220\n",
    "     elif city == \"Pittsburgh\":\n",
    "        return 222\n",
    "     elif city == \"Los Angeles\":\n",
    "        return 475\n",
    "        \n",
    "def rental_car_cost (days):\n",
    "    cost = days * 40;\n",
    "    if days >= 7:\n",
    "        return cost - 50;\n",
    "    elif days >= 3:\n",
    "        return cost - 20;\n",
    "    else:\n",
    "        return cost\n",
    "        \n",
    "def trip_cost (city, days, spending_money):\n",
    "    return hotel_cost(days) + rental_car_cost(days) + plane_ride_cost(city) + spending_money\n",
    "    \n",
    "print (trip_cost(\"Los Angeles\", 5, 600))"
   ]
  }
 ],
 "metadata": {
  "kernelspec": {
   "display_name": "Python 3",
   "language": "python",
   "name": "python3"
  },
  "language_info": {
   "codemirror_mode": {
    "name": "ipython",
    "version": 3
   },
   "file_extension": ".py",
   "mimetype": "text/x-python",
   "name": "python",
   "nbconvert_exporter": "python",
   "pygments_lexer": "ipython3",
   "version": "3.4.3"
  }
 },
 "nbformat": 4,
 "nbformat_minor": 0
}
