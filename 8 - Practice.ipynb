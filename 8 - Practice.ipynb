{
 "cells": [
  {
   "cell_type": "markdown",
   "metadata": {},
   "source": [
    "### Fun With Numbers"
   ]
  },
  {
   "cell_type": "code",
   "execution_count": 1,
   "metadata": {
    "collapsed": true
   },
   "outputs": [],
   "source": [
    "# is_even\n",
    "def is_even(x):\n",
    "    return x % 2 == 0"
   ]
  },
  {
   "cell_type": "code",
   "execution_count": null,
   "metadata": {
    "collapsed": true
   },
   "outputs": [],
   "source": [
    "# is_int\n",
    "import math\n",
    "def is_int(x):\n",
    "    return not ((x - math.floor(x)) > 0)"
   ]
  },
  {
   "cell_type": "code",
   "execution_count": 2,
   "metadata": {
    "collapsed": true
   },
   "outputs": [],
   "source": [
    "# digit_sum\n",
    "def digit_sum(number):\n",
    "    total = 0\n",
    "    rem = number\n",
    "    while(number > 0):\n",
    "        rem = number % 10\n",
    "        number = int(number / 10)\n",
    "        total += rem\n",
    "    return total"
   ]
  },
  {
   "cell_type": "code",
   "execution_count": 3,
   "metadata": {
    "collapsed": true
   },
   "outputs": [],
   "source": [
    "# factorial\n",
    "def factorial(x):\n",
    "    fac = 1\n",
    "    for i in range(2,x + 1):\n",
    "        fac = fac * i\n",
    "    return fac"
   ]
  },
  {
   "cell_type": "code",
   "execution_count": 4,
   "metadata": {
    "collapsed": true
   },
   "outputs": [],
   "source": [
    "# is_prime\n",
    "def is_prime(x):\n",
    "    if x < 2:\n",
    "        return False    \n",
    "    else:\n",
    "        for fac in range(2, x):\n",
    "            if (x % fac == 0):\n",
    "                return False\n",
    "        return True"
   ]
  },
  {
   "cell_type": "markdown",
   "metadata": {},
   "source": [
    "### String it together"
   ]
  },
  {
   "cell_type": "code",
   "execution_count": 9,
   "metadata": {
    "collapsed": false
   },
   "outputs": [
    {
     "name": "stdout",
     "output_type": "stream",
     "text": [
      "!dlroW olleH\n"
     ]
    }
   ],
   "source": [
    "# reverse\n",
    "def reverse(text):\n",
    "    rev = \"\"\n",
    "    ind = len(text) - 1\n",
    "    while ind >= 0:\n",
    "        rev = rev + text[ind]\n",
    "        ind -= 1\n",
    "    return rev\n",
    "\n",
    "print reverse(\"Hello World!\")"
   ]
  },
  {
   "cell_type": "code",
   "execution_count": 16,
   "metadata": {
    "collapsed": false
   },
   "outputs": [
    {
     "name": "stdout",
     "output_type": "stream",
     "text": [
      "Hll Wrld!\n"
     ]
    }
   ],
   "source": [
    "# anti_vowel\n",
    "def anti_vowel(text):\n",
    "    anti = \"\"\n",
    "    for c in text:\n",
    "        if (c.lower() != 'a' and c.lower() != 'e' and c.lower() != 'i' and c.lower() != 'o' and c.lower() != 'u'):\n",
    "            anti = anti + c\n",
    "    return anti\n",
    "\n",
    "print anti_vowel(\"Hello World!\")"
   ]
  },
  {
   "cell_type": "code",
   "execution_count": 19,
   "metadata": {
    "collapsed": false
   },
   "outputs": [
    {
     "name": "stdout",
     "output_type": "stream",
     "text": [
      "15\n"
     ]
    }
   ],
   "source": [
    "# scrabble_score\n",
    "score = {\"a\": 1, \"c\": 3, \"b\": 3, \"e\": 1, \"d\": 2, \"g\": 2, \n",
    "         \"f\": 4, \"i\": 1, \"h\": 4, \"k\": 5, \"j\": 8, \"m\": 3, \n",
    "         \"l\": 1, \"o\": 1, \"n\": 1, \"q\": 10, \"p\": 3, \"s\": 1, \n",
    "         \"r\": 1, \"u\": 1, \"t\": 1, \"w\": 4, \"v\": 4, \"y\": 4, \n",
    "         \"x\": 8, \"z\": 10}\n",
    "\n",
    "def scrabble_score(word):\n",
    "    total = 0\n",
    "    for w in word:\n",
    "        total += score[w.lower()]\n",
    "\n",
    "    return total\n",
    "\n",
    "print scrabble_score(\"Helix\")"
   ]
  },
  {
   "cell_type": "code",
   "execution_count": 20,
   "metadata": {
    "collapsed": false
   },
   "outputs": [
    {
     "name": "stdout",
     "output_type": "stream",
     "text": [
      "this **** is wack ****\n"
     ]
    }
   ],
   "source": [
    "# Write a function called censor that takes two strings, text and word, as input. \n",
    "# It should return the text with the word you chose replaced with asterisks.\n",
    "# In: censor(\"this hack is wack hack\", \"hack\") Out: \"this **** is wack ****\"\n",
    "def censor(text, word):\n",
    "    list = []\n",
    "    for w in text.split():\n",
    "        if w == word:\n",
    "            list.append(\"*\" * len(word))\n",
    "        else:\n",
    "            list.append(w)\n",
    "\n",
    "    return \" \".join(list)\n",
    "\n",
    "print censor(\"this hack is wack hack\", \"hack\")"
   ]
  },
  {
   "cell_type": "markdown",
   "metadata": {},
   "source": [
    "###  Lists"
   ]
  },
  {
   "cell_type": "code",
   "execution_count": 21,
   "metadata": {
    "collapsed": false
   },
   "outputs": [
    {
     "name": "stdout",
     "output_type": "stream",
     "text": [
      "3\n"
     ]
    }
   ],
   "source": [
    "# Define a function called count that has two arguments called sequence and item. Return the number of times the item occurs in the list.\n",
    "def count(sequence, item):\n",
    "    found = 0\n",
    "    for i in sequence:\n",
    "        if i == item:\n",
    "            found += 1\n",
    "    return found\n",
    "\n",
    "print count([1,2,1,1], 1)"
   ]
  },
  {
   "cell_type": "code",
   "execution_count": 23,
   "metadata": {
    "collapsed": false
   },
   "outputs": [
    {
     "name": "stdout",
     "output_type": "stream",
     "text": [
      "[2]\n"
     ]
    }
   ],
   "source": [
    "# Define a function called purify that takes in a list of numbers, removes all odd numbers in the list, and returns the result.\n",
    "def purify(numbers):\n",
    "    result = []\n",
    "    for num in numbers:\n",
    "        if num % 2 == 0:\n",
    "            result.append(num)\n",
    "    \n",
    "    return result\n",
    "\n",
    "print purify([1,2,3])"
   ]
  },
  {
   "cell_type": "code",
   "execution_count": 24,
   "metadata": {
    "collapsed": false
   },
   "outputs": [
    {
     "name": "stdout",
     "output_type": "stream",
     "text": [
      "100\n"
     ]
    }
   ],
   "source": [
    "# Define a function called product that takes a list of integers as input and returns the product of all of the elements in the list.\n",
    "def product(numbers):\n",
    "    prod = 1\n",
    "    for num in numbers:\n",
    "        prod *= num\n",
    "    return prod\n",
    "\n",
    "print product([4, 5, 5])"
   ]
  },
  {
   "cell_type": "code",
   "execution_count": 25,
   "metadata": {
    "collapsed": false
   },
   "outputs": [
    {
     "name": "stdout",
     "output_type": "stream",
     "text": [
      "[1, 2]\n"
     ]
    }
   ],
   "source": [
    "# Write a function remove_duplicates that takes in a list and removes elements of the list that are the same.\n",
    "def remove_duplicates(elements):\n",
    "    unique = []\n",
    "    for elem in elements:\n",
    "        if elem not in unique:\n",
    "            unique.append(elem)\n",
    "    return unique\n",
    "\n",
    "print remove_duplicates([1,1,2,2])"
   ]
  },
  {
   "cell_type": "code",
   "execution_count": 26,
   "metadata": {
    "collapsed": false
   },
   "outputs": [
    {
     "name": "stdout",
     "output_type": "stream",
     "text": [
      "6\n",
      "3.5\n"
     ]
    }
   ],
   "source": [
    "# Lwrite a function to find the median of a list. The median is the middle number in a sorted sequence of numbers.\n",
    "def median(numbers):\n",
    "    numbers = sorted(numbers)\n",
    "    median = 0\n",
    "    if len(numbers) % 2.0 == 0:\n",
    "        start = int(len(numbers) /2 - 1)\n",
    "        end = start + 1\n",
    "        median = (numbers[start] + numbers[end]) / 2.0\n",
    "    else:\n",
    "        start = int(len(numbers) /2)\n",
    "        median = numbers[start]\n",
    "    return median\n",
    "\n",
    "print median([7,12,3,1,6])\n",
    "print median([7,3,1,4])"
   ]
  },
  {
   "cell_type": "markdown",
   "metadata": {},
   "source": [
    "## Exam Statistics"
   ]
  },
  {
   "cell_type": "code",
   "execution_count": 28,
   "metadata": {
    "collapsed": false
   },
   "outputs": [
    {
     "name": "stdout",
     "output_type": "stream",
     "text": [
      "100\n",
      "100\n",
      "90\n",
      "40\n",
      "80\n",
      "100\n",
      "85\n",
      "70\n",
      "90\n",
      "65\n",
      "90\n",
      "85\n",
      "50.5\n",
      "None\n",
      "1045.5\n",
      "80.4230769231\n",
      "334.071005917\n",
      "18.2776094147\n"
     ]
    }
   ],
   "source": [
    "grades = [100, 100, 90, 40, 80, 100, 85, 70, 90, 65, 90, 85, 50.5]\n",
    "\n",
    "def print_grades(grades):\n",
    "    for grade in grades:\n",
    "        print grade\n",
    "\n",
    "def grades_sum(grades):\n",
    "    total = 0\n",
    "    for grade in grades: \n",
    "        total += grade\n",
    "    return total\n",
    "    \n",
    "def grades_average(grades):\n",
    "    sum_of_grades = grades_sum(grades)\n",
    "    average = sum_of_grades / float(len(grades))\n",
    "    return average\n",
    "\n",
    "def grades_variance(scores):\n",
    "    average = grades_average(scores)\n",
    "    variance = 0\n",
    "    \n",
    "    for score in scores:\n",
    "        variance += (average - score) ** 2\n",
    "        \n",
    "    return variance / float(len(scores))\n",
    "    \n",
    "def grades_std_deviation(variance):\n",
    "    return variance ** 0.5\n",
    "\n",
    "   \n",
    "print print_grades(grades)\n",
    "print grades_sum(grades)\n",
    "print grades_average(grades)\n",
    "variance = grades_variance(grades)\n",
    "print variance\n",
    "print grades_std_deviation(variance)"
   ]
  }
 ],
 "metadata": {
  "kernelspec": {
   "display_name": "Python 2",
   "language": "python",
   "name": "python2"
  },
  "language_info": {
   "codemirror_mode": {
    "name": "ipython",
    "version": 2
   },
   "file_extension": ".py",
   "mimetype": "text/x-python",
   "name": "python",
   "nbconvert_exporter": "python",
   "pygments_lexer": "ipython2",
   "version": "2.7.10"
  }
 },
 "nbformat": 4,
 "nbformat_minor": 0
}
