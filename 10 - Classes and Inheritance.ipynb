{
 "cells": [
  {
   "cell_type": "code",
   "execution_count": 1,
   "metadata": {
    "collapsed": false
   },
   "outputs": [
    {
     "name": "stdout",
     "output_type": "stream",
     "text": [
      "3\n",
      "True\n"
     ]
    }
   ],
   "source": [
    "class Triangle(object):\n",
    "    number_of_sides = 3\n",
    "    def __init__(self, angle1, angle2, angle3):\n",
    "        self.angle1 = angle1\n",
    "        self.angle2 = angle2\n",
    "        self.angle3 = angle3\n",
    "        \n",
    "        \n",
    "    def check_angles(self):\n",
    "        return self.angle1 + self.angle2 + self.angle3 == 180\n",
    " \n",
    "class Equilateral(Triangle):\n",
    "    angle = 60\n",
    "    def __init__(self):\n",
    "        self.angle1 = self.angle\n",
    "        self.angle2 = self.angle\n",
    "        self.angle3 = self.angle\n",
    "        \n",
    "my_triangle = Triangle(90, 30, 60)\n",
    "print(my_triangle.number_of_sides)\n",
    "print(my_triangle.check_angles())"
   ]
  },
  {
   "cell_type": "code",
   "execution_count": null,
   "metadata": {
    "collapsed": true
   },
   "outputs": [],
   "source": [
    "# Overriding methods\n",
    "class Car(object):\n",
    "    condition = \"new\"\n",
    "    def __init__(self, model, color, mpg):\n",
    "        self.model = model\n",
    "        self.color = color\n",
    "        self.mpg   = mpg\n",
    "\n",
    "    def display_car(self):\n",
    "        return \"This is a \" + self.color + \" \" + self.model + \" with \" + str(self.mpg) + \" MPG.\"\n",
    "        \n",
    "    def drive_car(self):\n",
    "        self.condition = \"used\"\n",
    "\n",
    "class ElectricCar(Car):\n",
    "    \n",
    "    def __init__(self, model, color, mpg, battery_type):\n",
    "        super(ElectricCar, self).__init__(model, color, mpg)\n",
    "        self.battery_type   = battery_type\n",
    "    \n",
    "    def drive_car(self):\n",
    "        self.condition = \"like new\"\n",
    "        \n",
    "my_car = ElectricCar(\"DeLorean\", \"silver\", 88, \"molten salt\")\n",
    "print(my_car.condition)\n",
    "my_car.drive_car()\n",
    "print(my_car.condition)"
   ]
  },
  {
   "cell_type": "code",
   "execution_count": 3,
   "metadata": {
    "collapsed": true
   },
   "outputs": [],
   "source": [
    "class Item(object):\n",
    "    \n",
    "    def __init__(self, name, price):\n",
    "        self.name = name\n",
    "        self.price = price\n",
    "       \n",
    "    # check object equality \n",
    "    def __eq__(self, other):\n",
    "        if isinstance(other, Item):\n",
    "            return self.__dict__ == other.__dict__ # we can compare individual attributes as well\n",
    "        else:\n",
    "            return False\n",
    "            \n",
    "    # caveat: defining __eq__ does not automatically add support for the != operator, we have to define __ne__ as well\n",
    "    # check object equality \n",
    "    def __ne__(self, other):\n",
    "        return not self.__eq__(other)\n",
    "    \n",
    "    # comparison operator, we need to implement only __lt__ Python can infer the other methods\n",
    "    def __lt__(self, other):\n",
    "      return self.price < other.price\n",
    "      \n",
    "    # uniqueness is determined by calling __hash__ method in set()\n",
    "    def __hash__(self):\n",
    "        return hash((self.name, self.price))\n",
    "\n",
    "    # Printable string representation\n",
    "    # Sample Call : str(obj)\n",
    "    # for conversion to str (string type) and printing\n",
    "    # + used with strings for concatenation\n",
    "    def str(self):\n",
    "        return \"Item: name = %s, price = %d\" % (self.name, self.price)\n",
    "\n",
    "    # Evaluatable string representation\n",
    "    # Sample Call : repr(obj) \n",
    "    # for conversion to formal string representation that can be used in shell\n",
    "    def __repr__(self):\n",
    "        return \"Item: name = %s, price = %d\" % (self.name, self.price)"
   ]
  },
  {
   "cell_type": "code",
   "execution_count": 4,
   "metadata": {
    "collapsed": true
   },
   "outputs": [],
   "source": [
    "a = Item('Book', 20)\n",
    "b = Item('Watch', 30)\n",
    "c = Item('Book', 20)"
   ]
  },
  {
   "cell_type": "code",
   "execution_count": 5,
   "metadata": {
    "collapsed": false
   },
   "outputs": [
    {
     "name": "stdout",
     "output_type": "stream",
     "text": [
      "Item: name = Book, price = 20\n"
     ]
    }
   ],
   "source": [
    "# check the string representation\n",
    "print(a)"
   ]
  },
  {
   "cell_type": "code",
   "execution_count": 6,
   "metadata": {
    "collapsed": false
   },
   "outputs": [
    {
     "name": "stdout",
     "output_type": "stream",
     "text": [
      "False\n",
      "True\n"
     ]
    }
   ],
   "source": [
    "# check objects equality\n",
    "print(a == b) # False\n",
    "print(a == c) # True"
   ]
  },
  {
   "cell_type": "code",
   "execution_count": null,
   "metadata": {
    "collapsed": true
   },
   "outputs": [],
   "source": [
    "# check objects inequality\n",
    "#print(a != b) # True\n",
    "#print(a != c) # False"
   ]
  },
  {
   "cell_type": "code",
   "execution_count": 7,
   "metadata": {
    "collapsed": false
   },
   "outputs": [
    {
     "name": "stdout",
     "output_type": "stream",
     "text": [
      "True\n",
      "False\n"
     ]
    }
   ],
   "source": [
    "# check objects comparison\n",
    "print(a < b) # True\n",
    "print(b < c) # False"
   ]
  },
  {
   "cell_type": "code",
   "execution_count": 8,
   "metadata": {
    "collapsed": false
   },
   "outputs": [
    {
     "name": "stdout",
     "output_type": "stream",
     "text": [
      "[Item: name = Watch, price = 30, Item: name = Book, price = 20]\n"
     ]
    }
   ],
   "source": [
    "# check sorting on objects. Python calls the __lt__ method on the object\n",
    "my_list = [b,a] # [Item: name = Watch, price = 3, Item: name = Book, price = 2]\n",
    "print(my_list)"
   ]
  },
  {
   "cell_type": "code",
   "execution_count": 9,
   "metadata": {
    "collapsed": false
   },
   "outputs": [
    {
     "name": "stdout",
     "output_type": "stream",
     "text": [
      "[Item: name = Book, price = 20, Item: name = Watch, price = 30]\n"
     ]
    }
   ],
   "source": [
    "my_list.sort() # sort the list\n",
    "print(my_list) # [Item: name = Book, price = 2, Item: name = Watch, price = 3]"
   ]
  },
  {
   "cell_type": "code",
   "execution_count": 13,
   "metadata": {
    "collapsed": false
   },
   "outputs": [
    {
     "name": "stdout",
     "output_type": "stream",
     "text": [
      "{Item: name = Book, price = 20}\n"
     ]
    }
   ],
   "source": [
    "# check adding object to a set\n",
    "my_set = set([a, c]) # uniqueness is determined by calling __hash__ method\n",
    "print(my_set)"
   ]
  },
  {
   "cell_type": "code",
   "execution_count": 10,
   "metadata": {
    "collapsed": true
   },
   "outputs": [],
   "source": [
    "class Vector:\n",
    "    def __init__(self, a, b):\n",
    "        self.a = a\n",
    "        self.b = b\n",
    "\n",
    "    def __str__(self):\n",
    "        return 'Vector (%d, %d)' % (self.a, self.b)\n",
    "\n",
    "    #define the __add__ method perform object addition, used by + infix operand\n",
    "    def __add__(self,other):\n",
    "        return Vector(self.a + other.a, self.b + other.b)"
   ]
  },
  {
   "cell_type": "code",
   "execution_count": 12,
   "metadata": {
    "collapsed": false
   },
   "outputs": [
    {
     "name": "stdout",
     "output_type": "stream",
     "text": [
      "Vector (7, 8)\n"
     ]
    }
   ],
   "source": [
    "# object addition\n",
    "v1 = Vector(2,10)\n",
    "v2 = Vector(5,-2)\n",
    "print(v1 + v2)"
   ]
  },
  {
   "cell_type": "code",
   "execution_count": 2,
   "metadata": {
    "collapsed": true
   },
   "outputs": [],
   "source": [
    "# static mathod in classes\n",
    "class Foo:\n",
    "    count=0 # one value for whole class\n",
    "    \n",
    "    @staticmethod\n",
    "    def incCount(): # no self parameter\n",
    "         Foo.count += 1\n",
    "         return Foo.count"
   ]
  },
  {
   "cell_type": "code",
   "execution_count": 3,
   "metadata": {
    "collapsed": false
   },
   "outputs": [
    {
     "data": {
      "text/plain": [
       "1"
      ]
     },
     "execution_count": 3,
     "metadata": {},
     "output_type": "execute_result"
    }
   ],
   "source": [
    "Foo.incCount()"
   ]
  },
  {
   "cell_type": "code",
   "execution_count": null,
   "metadata": {
    "collapsed": true
   },
   "outputs": [],
   "source": []
  }
 ],
 "metadata": {
  "kernelspec": {
   "display_name": "Python 3",
   "language": "python",
   "name": "python3"
  },
  "language_info": {
   "codemirror_mode": {
    "name": "ipython",
    "version": 3
   },
   "file_extension": ".py",
   "mimetype": "text/x-python",
   "name": "python",
   "nbconvert_exporter": "python",
   "pygments_lexer": "ipython3",
   "version": "3.4.3"
  }
 },
 "nbformat": 4,
 "nbformat_minor": 0
}
