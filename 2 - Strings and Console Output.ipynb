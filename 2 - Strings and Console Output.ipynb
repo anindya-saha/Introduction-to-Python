{
 "cells": [
  {
   "cell_type": "markdown",
   "metadata": {},
   "source": [
    "# Strings"
   ]
  },
  {
   "cell_type": "code",
   "execution_count": 3,
   "metadata": {
    "collapsed": false
   },
   "outputs": [
    {
     "name": "stdout",
     "output_type": "stream",
     "text": [
      "Graham\n",
      "John\n",
      "Teresa\n"
     ]
    }
   ],
   "source": [
    "# Assign the variables each on its own line!\n",
    "caesar = \"Graham\"\n",
    "praline = \"John\"\n",
    "viking = \"Teresa\"\n",
    "\n",
    "# Print the variables\n",
    "\n",
    "print (caesar)\n",
    "print (praline)\n",
    "print (viking)"
   ]
  },
  {
   "cell_type": "code",
   "execution_count": 4,
   "metadata": {
    "collapsed": false
   },
   "outputs": [
    {
     "name": "stdout",
     "output_type": "stream",
     "text": [
      "This isn't flying, this is falling with style!\n"
     ]
    }
   ],
   "source": [
    "# Escaping characters\n",
    "print('This isn\\'t flying, this is falling with style!')"
   ]
  },
  {
   "cell_type": "code",
   "execution_count": 6,
   "metadata": {
    "collapsed": false
   },
   "outputs": [
    {
     "name": "stdout",
     "output_type": "stream",
     "text": [
      "Y\n"
     ]
    }
   ],
   "source": [
    "# Access by Index\n",
    "\"\"\"\n",
    "The string \"PYTHON\" has six characters,\n",
    "numbered 0 to 5, as shown below:\n",
    "\n",
    "+---+---+---+---+---+---+\n",
    "| P | Y | T | H | O | N |\n",
    "+---+---+---+---+---+---+\n",
    "  0   1   2   3   4   5\n",
    "\n",
    "So if we wanted \"Y\", we could just type\n",
    "\"PYTHON\"[1] (always start counting from 0!)\n",
    "\"\"\"\n",
    "fifth_letter = \"MONTY\"[4]\n",
    "\n",
    "print(fifth_letter)"
   ]
  },
  {
   "cell_type": "code",
   "execution_count": 3,
   "metadata": {
    "collapsed": false
   },
   "outputs": [
    {
     "name": "stdout",
     "output_type": "stream",
     "text": [
      "Hello World!\n",
      "H\n",
      "llo\n",
      "llo World!\n",
      "Hello World!Hello World!\n",
      "Hello World!TEST\n"
     ]
    }
   ],
   "source": [
    "str = 'Hello World!'\n",
    "\n",
    "print(str)          # Prints complete string\n",
    "print(str[0])       # Prints first character of the string\n",
    "print(str[2:5])     # Prints characters starting from 3rd to 5th\n",
    "print(str[2:])      # Prints string starting from 3rd character\n",
    "print(str * 2)    # Prints string two times\n",
    "print(str + \"TEST\") # Prints concatenated string"
   ]
  },
  {
   "cell_type": "markdown",
   "metadata": {},
   "source": [
    "## String methods"
   ]
  },
  {
   "cell_type": "code",
   "execution_count": 12,
   "metadata": {
    "collapsed": false
   },
   "outputs": [
    {
     "name": "stdout",
     "output_type": "stream",
     "text": [
      "14\n",
      "norwegian blue\n",
      "NORWEGIAN BLUE\n"
     ]
    }
   ],
   "source": [
    "parrot = \"Norwegian Blue\"\n",
    "print(len(parrot))\n",
    "print (parrot.lower())\n",
    "print (parrot.upper())"
   ]
  },
  {
   "cell_type": "code",
   "execution_count": 13,
   "metadata": {
    "collapsed": false
   },
   "outputs": [
    {
     "name": "stdout",
     "output_type": "stream",
     "text": [
      "3.14\n"
     ]
    }
   ],
   "source": [
    "pi = 3.14\n",
    "print (str(pi))"
   ]
  },
  {
   "cell_type": "markdown",
   "metadata": {},
   "source": [
    "### Advanced Printing"
   ]
  },
  {
   "cell_type": "code",
   "execution_count": 17,
   "metadata": {
    "collapsed": false
   },
   "outputs": [
    {
     "name": "stdout",
     "output_type": "stream",
     "text": [
      "Spam and eggs\n"
     ]
    }
   ],
   "source": [
    "# String Concatenation\n",
    "print (\"Spam \" + \"and \" + \"eggs\")"
   ]
  },
  {
   "cell_type": "code",
   "execution_count": 18,
   "metadata": {
    "collapsed": false
   },
   "outputs": [
    {
     "name": "stdout",
     "output_type": "stream",
     "text": [
      "The value of pi is around 3.14\n"
     ]
    }
   ],
   "source": [
    "# Explicit String Conversion\n",
    "print(\"The value of pi is around \" + str(3.14))"
   ]
  },
  {
   "cell_type": "code",
   "execution_count": 21,
   "metadata": {
    "collapsed": false
   },
   "outputs": [
    {
     "name": "stdout",
     "output_type": "stream",
     "text": [
      "Let's not go to Camelot. 'Tis a silly place.\n"
     ]
    }
   ],
   "source": [
    "# String Formatting with %\n",
    "string_1 = \"Camelot\"\n",
    "string_2 = \"place\"\n",
    "\n",
    "print (\"Let's not go to %s. 'Tis a silly %s.\" % (string_1, string_2))"
   ]
  },
  {
   "cell_type": "code",
   "execution_count": 24,
   "metadata": {
    "collapsed": false
   },
   "outputs": [
    {
     "name": "stdout",
     "output_type": "stream",
     "text": [
      "What is your name?Anindya\n",
      "What is your quest?Machine Learning\n",
      "What is your favorite color?Red\n",
      "Ah, so your name is Anindya, your quest is Machine Learning, and your favorite color is Red.\n"
     ]
    }
   ],
   "source": [
    "name = input(\"What is your name?\")\n",
    "quest = input(\"What is your quest?\")\n",
    "color = input(\"What is your favorite color?\")\n",
    "\n",
    "print (\"Ah, so your name is %s, your quest is %s, \" \\\n",
    "\"and your favorite color is %s.\" % (name, quest, color))"
   ]
  },
  {
   "cell_type": "markdown",
   "metadata": {},
   "source": [
    "# Date and Time"
   ]
  },
  {
   "cell_type": "code",
   "execution_count": 26,
   "metadata": {
    "collapsed": false
   },
   "outputs": [],
   "source": [
    "from datetime import datetime"
   ]
  },
  {
   "cell_type": "code",
   "execution_count": 28,
   "metadata": {
    "collapsed": false
   },
   "outputs": [
    {
     "name": "stdout",
     "output_type": "stream",
     "text": [
      "2015-09-22 21:49:32.566650\n"
     ]
    }
   ],
   "source": [
    "# Getting the Current Date and Time\n",
    "now = datetime.now()\n",
    "print (now)"
   ]
  },
  {
   "cell_type": "code",
   "execution_count": 29,
   "metadata": {
    "collapsed": false
   },
   "outputs": [
    {
     "name": "stdout",
     "output_type": "stream",
     "text": [
      "2015\n",
      "9\n",
      "22\n"
     ]
    }
   ],
   "source": [
    "# Extracting Information\n",
    "now = datetime.now()\n",
    "print(now.year)\n",
    "print(now.month)\n",
    "print(now.day)"
   ]
  },
  {
   "cell_type": "code",
   "execution_count": 30,
   "metadata": {
    "collapsed": false
   },
   "outputs": [
    {
     "name": "stdout",
     "output_type": "stream",
     "text": [
      "2015/9/22\n"
     ]
    }
   ],
   "source": [
    "# Hot Date\n",
    "now = datetime.now()\n",
    "\n",
    "print ('%s/%s/%s' % (now.year, now.month, now.day))"
   ]
  },
  {
   "cell_type": "code",
   "execution_count": 31,
   "metadata": {
    "collapsed": false
   },
   "outputs": [
    {
     "name": "stdout",
     "output_type": "stream",
     "text": [
      "21:52:19\n"
     ]
    }
   ],
   "source": [
    "# Pretty Time\n",
    "now = datetime.now()\n",
    "\n",
    "print('%s:%s:%s' % (now.hour, now.minute, now.second))"
   ]
  },
  {
   "cell_type": "code",
   "execution_count": 33,
   "metadata": {
    "collapsed": false
   },
   "outputs": [
    {
     "name": "stdout",
     "output_type": "stream",
     "text": [
      "9/22/2015 21:53:56\n"
     ]
    }
   ],
   "source": [
    "# Date and Time\n",
    "now = datetime.now()\n",
    "\n",
    "print ('%s/%s/%s %s:%s:%s' % (now.month, now.day, now.year, now.hour, now.minute, now.second))"
   ]
  },
  {
   "cell_type": "code",
   "execution_count": null,
   "metadata": {
    "collapsed": true
   },
   "outputs": [],
   "source": []
  }
 ],
 "metadata": {
  "kernelspec": {
   "display_name": "Python 3",
   "language": "python",
   "name": "python3"
  },
  "language_info": {
   "codemirror_mode": {
    "name": "ipython",
    "version": 3
   },
   "file_extension": ".py",
   "mimetype": "text/x-python",
   "name": "python",
   "nbconvert_exporter": "python",
   "pygments_lexer": "ipython3",
   "version": "3.4.3"
  }
 },
 "nbformat": 4,
 "nbformat_minor": 0
}
