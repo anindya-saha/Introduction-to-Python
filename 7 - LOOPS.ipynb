{
 "cells": [
  {
   "cell_type": "markdown",
   "metadata": {},
   "source": [
    "# Loops"
   ]
  },
  {
   "cell_type": "code",
   "execution_count": 1,
   "metadata": {
    "collapsed": false
   },
   "outputs": [
    {
     "name": "stdout",
     "output_type": "stream",
     "text": [
      "Hello, I am an if statement and count is 0\n",
      "Hello, I am a while and count is 0\n",
      "Hello, I am a while and count is 1\n",
      "Hello, I am a while and count is 2\n",
      "Hello, I am a while and count is 3\n",
      "Hello, I am a while and count is 4\n",
      "Hello, I am a while and count is 5\n",
      "Hello, I am a while and count is 6\n",
      "Hello, I am a while and count is 7\n",
      "Hello, I am a while and count is 8\n",
      "Hello, I am a while and count is 9\n"
     ]
    }
   ],
   "source": [
    "# while\n",
    "count = 0\n",
    "\n",
    "if count < 5:\n",
    "    print \"Hello, I am an if statement and count is\", count\n",
    "    \n",
    "while count <= 9:\n",
    "    print \"Hello, I am a while and count is\", count\n",
    "    count += 1"
   ]
  },
  {
   "cell_type": "code",
   "execution_count": 2,
   "metadata": {
    "collapsed": false
   },
   "outputs": [
    {
     "name": "stdout",
     "output_type": "stream",
     "text": [
      "I am a loop\n"
     ]
    }
   ],
   "source": [
    "# condition\n",
    "loop_condition = True\n",
    "\n",
    "while loop_condition:\n",
    "    print \"I am a loop\"\n",
    "    loop_condition = False"
   ]
  },
  {
   "cell_type": "code",
   "execution_count": 4,
   "metadata": {
    "collapsed": false
   },
   "outputs": [
    {
     "name": "stdout",
     "output_type": "stream",
     "text": [
      "1\n",
      "4\n",
      "9\n",
      "16\n",
      "25\n",
      "36\n",
      "49\n",
      "64\n",
      "81\n",
      "100\n"
     ]
    }
   ],
   "source": [
    "# while\n",
    "num = 1\n",
    "\n",
    "while num <= 10:  # Fill in the condition\n",
    "    # Print num squared\n",
    "    print num * num\n",
    "    # Increment num (make sure to do this!)\n",
    "    num = num + 1"
   ]
  },
  {
   "cell_type": "code",
   "execution_count": 5,
   "metadata": {
    "collapsed": false
   },
   "outputs": [
    {
     "name": "stdout",
     "output_type": "stream",
     "text": [
      "0\n",
      "1\n",
      "2\n",
      "3\n",
      "4\n",
      "5\n",
      "6\n",
      "7\n",
      "8\n",
      "9\n"
     ]
    }
   ],
   "source": [
    "# break\n",
    "count = 0\n",
    "\n",
    "while True:\n",
    "    print count\n",
    "    count += 1\n",
    "    if count >= 10:\n",
    "        break"
   ]
  },
  {
   "cell_type": "code",
   "execution_count": 6,
   "metadata": {
    "collapsed": false
   },
   "outputs": [
    {
     "name": "stdout",
     "output_type": "stream",
     "text": [
      "Lucky Numbers! 3 numbers will be generated.\n",
      "If one of them is a '5', you lose!\n",
      "1\n",
      "1\n",
      "6\n",
      "You win!\n"
     ]
    }
   ],
   "source": [
    "# while / else\n",
    "import random\n",
    "\n",
    "print \"Lucky Numbers! 3 numbers will be generated.\"\n",
    "print \"If one of them is a '5', you lose!\"\n",
    "\n",
    "count = 0\n",
    "while count < 3:\n",
    "    num = random.randint(1, 6)\n",
    "    print num\n",
    "    if num == 5:\n",
    "        print \"Sorry, you lose!\"\n",
    "        break\n",
    "    count += 1\n",
    "else:\n",
    "    print \"You win!\""
   ]
  },
  {
   "cell_type": "code",
   "execution_count": 8,
   "metadata": {
    "collapsed": false
   },
   "outputs": [
    {
     "name": "stdout",
     "output_type": "stream",
     "text": [
      "Counting...\n",
      "0\n",
      "1\n",
      "2\n",
      "3\n",
      "4\n",
      "5\n",
      "6\n",
      "7\n",
      "8\n",
      "9\n",
      "10\n",
      "11\n",
      "12\n",
      "13\n",
      "14\n",
      "15\n",
      "16\n",
      "17\n",
      "18\n",
      "19\n"
     ]
    }
   ],
   "source": [
    "# for / range\n",
    "print \"Counting...\"\n",
    "\n",
    "for i in range(20):\n",
    "    print i"
   ]
  },
  {
   "cell_type": "code",
   "execution_count": 7,
   "metadata": {
    "collapsed": false
   },
   "outputs": [
    {
     "name": "stdout",
     "output_type": "stream",
     "text": [
      "s\n",
      "p\n",
      "a\n",
      "m\n",
      "!\n",
      "e\n",
      "g\n",
      "g\n",
      "s\n",
      "!\n"
     ]
    }
   ],
   "source": [
    "# for / String\n",
    "thing = \"spam!\"\n",
    "\n",
    "for c in thing:\n",
    "    print c\n",
    "\n",
    "word = \"eggs!\"\n",
    "\n",
    "# Your code here!\n",
    "for w in word:\n",
    "    print w"
   ]
  },
  {
   "cell_type": "code",
   "execution_count": null,
   "metadata": {
    "collapsed": true
   },
   "outputs": [],
   "source": [
    "# for / lists\n",
    "numbers  = [7, 9, 12, 54, 99]\n",
    "\n",
    "print \"This list contains: \"\n",
    "\n",
    "for num in numbers:\n",
    "    print num\n",
    "    \n",
    "for num in numbers:\n",
    "    print num * num"
   ]
  },
  {
   "cell_type": "code",
   "execution_count": 9,
   "metadata": {
    "collapsed": false
   },
   "outputs": [
    {
     "name": "stdout",
     "output_type": "stream",
     "text": [
      "a apple\n",
      "c cherry\n",
      "b berry\n"
     ]
    }
   ],
   "source": [
    "# for / dictionary\n",
    "d = {'a': 'apple', 'b': 'berry', 'c': 'cherry'}\n",
    "\n",
    "for key in d:\n",
    "    # Your code here!\n",
    "    print key + \" \" + d[key]"
   ]
  },
  {
   "cell_type": "code",
   "execution_count": 11,
   "metadata": {
    "collapsed": false
   },
   "outputs": [
    {
     "name": "stdout",
     "output_type": "stream",
     "text": [
      "Your choices are:\n",
      "1 pizza\n",
      "2 pasta\n",
      "3 salad\n",
      "4 nachos\n"
     ]
    }
   ],
   "source": [
    "# for, Counting as we go\n",
    "choices = ['pizza', 'pasta', 'salad', 'nachos']\n",
    "\n",
    "print 'Your choices are:'\n",
    "for index, item in enumerate(choices):\n",
    "    print index + 1, item"
   ]
  },
  {
   "cell_type": "code",
   "execution_count": 13,
   "metadata": {
    "collapsed": false
   },
   "outputs": [
    {
     "name": "stdout",
     "output_type": "stream",
     "text": [
      "3\n",
      "9\n",
      "17\n",
      "15\n",
      "30\n"
     ]
    }
   ],
   "source": [
    "# Multiple lists\n",
    "# It's also common to need to iterate over two lists at once. This is where the built-in zip function comes in handy.\n",
    "# zip will create pairs of elements when passed two lists, and will stop at the end of the shorter list.\n",
    "# zip can handle three or more lists as well!\n",
    "list_a = [3, 9, 17, 15, 19]\n",
    "list_b = [2, 4, 8, 10, 30, 40, 50, 60, 70, 80, 90]\n",
    "\n",
    "for a, b in zip(list_a, list_b):\n",
    "    print max(a,b)"
   ]
  },
  {
   "cell_type": "code",
   "execution_count": 14,
   "metadata": {
    "collapsed": false
   },
   "outputs": [
    {
     "name": "stdout",
     "output_type": "stream",
     "text": [
      "You have...\n",
      "A banana\n",
      "A apple\n",
      "A orange\n",
      "A tomato is not a fruit!\n"
     ]
    }
   ],
   "source": [
    "# For / else\n",
    "# Just like with while, for loops may have an else associated with them.\n",
    "\n",
    "# In this case, the else statement is executed after the for, but only if the for ends normally—that is, \n",
    "# not with a break. This code will break when it hits 'tomato', so the else block won't be executed.\n",
    "\n",
    "fruits = ['banana', 'apple', 'orange', 'tomato', 'pear', 'grape']\n",
    "\n",
    "print 'You have...'\n",
    "for f in fruits:\n",
    "    if f == 'tomato':\n",
    "        print 'A tomato is not a fruit!' # (It actually is.)\n",
    "        break\n",
    "    print 'A', f\n",
    "else:\n",
    "    print 'A fine selection of fruits!'"
   ]
  },
  {
   "cell_type": "code",
   "execution_count": 15,
   "metadata": {
    "collapsed": false
   },
   "outputs": [
    {
     "name": "stdout",
     "output_type": "stream",
     "text": [
      "You have...\n",
      "A banana\n",
      "A apple\n",
      "A orange\n",
      "A pear\n",
      "A grape\n",
      "A fine selection of fruits!\n"
     ]
    }
   ],
   "source": [
    "# Modified the above code such that the for loop's else statement is executed.\n",
    "fruits = ['banana', 'apple', 'orange', 'pear', 'grape']\n",
    "\n",
    "print 'You have...'\n",
    "for f in fruits:\n",
    "    if f == 'tomato':\n",
    "        print 'A tomato is not a fruit!' # (It actually is.)\n",
    "        break\n",
    "    print 'A', f\n",
    "else:\n",
    "    print 'A fine selection of fruits!'"
   ]
  }
 ],
 "metadata": {
  "kernelspec": {
   "display_name": "Python 2",
   "language": "python",
   "name": "python2"
  },
  "language_info": {
   "codemirror_mode": {
    "name": "ipython",
    "version": 2
   },
   "file_extension": ".py",
   "mimetype": "text/x-python",
   "name": "python",
   "nbconvert_exporter": "python",
   "pygments_lexer": "ipython2",
   "version": "2.7.10"
  }
 },
 "nbformat": 4,
 "nbformat_minor": 0
}
