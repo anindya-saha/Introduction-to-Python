{
 "cells": [
  {
   "cell_type": "markdown",
   "metadata": {},
   "source": [
    "### Iteration Nation"
   ]
  },
  {
   "cell_type": "code",
   "execution_count": 1,
   "metadata": {
    "collapsed": false
   },
   "outputs": [
    {
     "name": "stdout",
     "output_type": "stream",
     "text": [
      "[('A', 56), ('S', 'Male'), ('N', 'G')]\n"
     ]
    }
   ],
   "source": [
    "# Iterators for Dictionaries\n",
    "my_dict = {\n",
    "    \"N\": \"G\",\n",
    "    \"A\": 56,\n",
    "    \"S\": \"Male\"\n",
    "    }\n",
    "print my_dict.items()"
   ]
  },
  {
   "cell_type": "code",
   "execution_count": 2,
   "metadata": {
    "collapsed": false
   },
   "outputs": [
    {
     "name": "stdout",
     "output_type": "stream",
     "text": [
      "['A', 'S', 'N']\n",
      "[56, 'Male', 'G']\n"
     ]
    }
   ],
   "source": [
    "# keys() and values()\n",
    "my_dict = {\n",
    "    \"N\": \"G\",\n",
    "    \"A\": 56,\n",
    "    \"S\": \"Male\"\n",
    "    }\n",
    "print my_dict.keys()\n",
    "print my_dict.values()"
   ]
  },
  {
   "cell_type": "code",
   "execution_count": 3,
   "metadata": {
    "collapsed": false
   },
   "outputs": [
    {
     "name": "stdout",
     "output_type": "stream",
     "text": [
      "A 56\n",
      "S Male\n",
      "N G\n"
     ]
    }
   ],
   "source": [
    "# The 'in' Operator\n",
    "my_dict = {\n",
    "    \"N\": \"G\",\n",
    "    \"A\": 56,\n",
    "    \"S\": \"Male\"\n",
    "    }\n",
    "for key in my_dict:\n",
    "    print key, my_dict[key]"
   ]
  },
  {
   "cell_type": "markdown",
   "metadata": {},
   "source": [
    "### List Comprehensions"
   ]
  },
  {
   "cell_type": "code",
   "execution_count": 4,
   "metadata": {
    "collapsed": false
   },
   "outputs": [
    {
     "name": "stdout",
     "output_type": "stream",
     "text": [
      "[0, 2, 4, 6, 8, 10, 12, 14, 16, 18, 20, 22, 24, 26, 28, 30, 32, 34, 36, 38, 40, 42, 44, 46, 48, 50]\n"
     ]
    }
   ],
   "source": [
    "# Building Lists\n",
    "evens_to_50 = [i for i in range(51) if i % 2 == 0]\n",
    "print evens_to_50"
   ]
  },
  {
   "cell_type": "code",
   "execution_count": 5,
   "metadata": {
    "collapsed": false
   },
   "outputs": [
    {
     "name": "stdout",
     "output_type": "stream",
     "text": [
      "[4, 16, 36, 64, 100]\n"
     ]
    }
   ],
   "source": [
    "# List Comprehension Syntax\n",
    "doubles_by_3 = [x*2 for x in range(1,6) if (x*2) % 3 == 0]\n",
    "\n",
    "# Complete the following line. Use the line above for help.\n",
    "even_squares = [x**2 for x in range(1,11) if (x**2) % 2 == 0]\n",
    "\n",
    "print even_squares"
   ]
  },
  {
   "cell_type": "code",
   "execution_count": 6,
   "metadata": {
    "collapsed": false
   },
   "outputs": [
    {
     "name": "stdout",
     "output_type": "stream",
     "text": [
      "[8, 64, 216, 512, 1000]\n"
     ]
    }
   ],
   "source": [
    "cubes_by_four = [x**3 for x in range(1,11) if x ** 3 % 4 == 0]\n",
    "print cubes_by_four"
   ]
  },
  {
   "cell_type": "markdown",
   "metadata": {},
   "source": [
    "### List Slicing"
   ]
  },
  {
   "cell_type": "code",
   "execution_count": 7,
   "metadata": {
    "collapsed": false
   },
   "outputs": [
    {
     "name": "stdout",
     "output_type": "stream",
     "text": [
      "[9, 25, 49, 81]\n"
     ]
    }
   ],
   "source": [
    "# List Slicing Syntax\n",
    "l = [i ** 2 for i in range(1, 11)]\n",
    "# Should be [1, 4, 9, 16, 25, 36, 49, 64, 81, 100]\n",
    "\n",
    "print l[2:9:2]"
   ]
  },
  {
   "cell_type": "code",
   "execution_count": 8,
   "metadata": {
    "collapsed": false
   },
   "outputs": [
    {
     "name": "stdout",
     "output_type": "stream",
     "text": [
      "[1, 3, 5, 7, 9]\n"
     ]
    }
   ],
   "source": [
    "# Omitting Indices\n",
    "my_list = range(1, 11) # List of numbers 1 - 10\n",
    "\n",
    "# Add your code below!\n",
    "print my_list[::2]"
   ]
  },
  {
   "cell_type": "code",
   "execution_count": 9,
   "metadata": {
    "collapsed": false
   },
   "outputs": [
    {
     "name": "stdout",
     "output_type": "stream",
     "text": [
      "[10, 9, 8, 7, 6, 5, 4, 3, 2, 1]\n"
     ]
    }
   ],
   "source": [
    "# Reversing a List\n",
    "my_list = range(1, 11)\n",
    "\n",
    "# Add your code below!\n",
    "backwards = my_list[::-1]\n",
    "\n",
    "print backwards"
   ]
  },
  {
   "cell_type": "code",
   "execution_count": 10,
   "metadata": {
    "collapsed": false
   },
   "outputs": [
    {
     "name": "stdout",
     "output_type": "stream",
     "text": [
      "[100, 90, 80, 70, 60, 50, 40, 30, 20, 10, 0]\n"
     ]
    }
   ],
   "source": [
    "# Stride Length\n",
    "to_one_hundred = range(101)\n",
    "# Add your code below!\n",
    "backwards_by_tens = to_one_hundred[::-10]\n",
    "print backwards_by_tens"
   ]
  },
  {
   "cell_type": "code",
   "execution_count": 12,
   "metadata": {
    "collapsed": false
   },
   "outputs": [
    {
     "name": "stdout",
     "output_type": "stream",
     "text": [
      "[1, 3, 5, 7, 9, 11, 13, 15, 17, 19, 21] [8, 9, 10, 11, 12, 13, 14]\n"
     ]
    }
   ],
   "source": [
    "to_21 = [i for i in range(1,22)]\n",
    "odds = to_21[::2]\n",
    "middle_third = to_21[7:14]\n",
    "print odds, middle_third"
   ]
  },
  {
   "cell_type": "markdown",
   "metadata": {},
   "source": [
    "### Lambdas"
   ]
  },
  {
   "cell_type": "code",
   "execution_count": 13,
   "metadata": {
    "collapsed": false
   },
   "outputs": [
    {
     "name": "stdout",
     "output_type": "stream",
     "text": [
      "[0, 3, 6, 9, 12, 15]\n"
     ]
    }
   ],
   "source": [
    "# Anonymous Functions\n",
    "my_list = range(16)\n",
    "print filter(lambda x: x % 3 == 0, my_list)"
   ]
  },
  {
   "cell_type": "code",
   "execution_count": 15,
   "metadata": {
    "collapsed": false
   },
   "outputs": [
    {
     "name": "stdout",
     "output_type": "stream",
     "text": [
      "['Python']\n",
      "[36, 49, 64]\n"
     ]
    }
   ],
   "source": [
    "# Lambda Syntax\n",
    "languages = [\"HTML\", \"JavaScript\", \"Python\", \"Ruby\"]\n",
    "print filter(lambda x: x == \"Python\", languages)\n",
    "\n",
    "squares = [x**2 for x in range(1, 11)]\n",
    "print(filter(lambda x: x >= 30 and x <=70, squares))"
   ]
  },
  {
   "cell_type": "markdown",
   "metadata": {},
   "source": [
    "### Review"
   ]
  },
  {
   "cell_type": "code",
   "execution_count": 17,
   "metadata": {
    "collapsed": false
   },
   "outputs": [
    {
     "name": "stdout",
     "output_type": "stream",
     "text": [
      "[(\"Monty Python's Life of Brian\", 'Good'), (\"Monty Python's Meaning of Life\", 'Okay'), ('Monty Python and the Holy Grail', 'Great')]\n"
     ]
    }
   ],
   "source": [
    "# Iterating Over Dictionaries\n",
    "movies = { \\\n",
    "    \"Monty Python and the Holy Grail\": \"Great\",\n",
    "    \"Monty Python's Life of Brian\": \"Good\",\n",
    "    \"Monty Python's Meaning of Life\": \"Okay\"\n",
    "}\n",
    "print(movies.items())"
   ]
  },
  {
   "cell_type": "code",
   "execution_count": 19,
   "metadata": {
    "collapsed": false
   },
   "outputs": [
    {
     "name": "stdout",
     "output_type": "stream",
     "text": [
      "[3, 5, 6, 9, 10, 12, 15]\n"
     ]
    }
   ],
   "source": [
    "# Comprehending Comprehensions\n",
    "threes_and_fives = [x for x in range(1, 16) if x % 3 == 0 or x % 5 == 0]\n",
    "\n",
    "print threes_and_fives"
   ]
  },
  {
   "cell_type": "code",
   "execution_count": 20,
   "metadata": {
    "collapsed": false
   },
   "outputs": [
    {
     "name": "stdout",
     "output_type": "stream",
     "text": [
      "I am the secret message!\n"
     ]
    }
   ],
   "source": [
    "# List Slicing\n",
    "garbled = \"!XeXgXaXsXsXeXmX XtXeXrXcXeXsX XeXhXtX XmXaX XI\"\n",
    "message = garbled[::-2]\n",
    "print message"
   ]
  },
  {
   "cell_type": "code",
   "execution_count": 21,
   "metadata": {
    "collapsed": false
   },
   "outputs": [
    {
     "name": "stdout",
     "output_type": "stream",
     "text": [
      "I am another secret message!\n"
     ]
    }
   ],
   "source": [
    "# Lambda Expressions\n",
    "garbled = \"IXXX aXXmX aXXXnXoXXXXXtXhXeXXXXrX sXXXXeXcXXXrXeXt mXXeXsXXXsXaXXXXXXgXeX!XX\"\n",
    "message = filter(lambda x: x != 'X', garbled)\n",
    "print(message)"
   ]
  }
 ],
 "metadata": {
  "kernelspec": {
   "display_name": "Python 2",
   "language": "python",
   "name": "python2"
  },
  "language_info": {
   "codemirror_mode": {
    "name": "ipython",
    "version": 2
   },
   "file_extension": ".py",
   "mimetype": "text/x-python",
   "name": "python",
   "nbconvert_exporter": "python",
   "pygments_lexer": "ipython2",
   "version": "2.7.10"
  }
 },
 "nbformat": 4,
 "nbformat_minor": 0
}
