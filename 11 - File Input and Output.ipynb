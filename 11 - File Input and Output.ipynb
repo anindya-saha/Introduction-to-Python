{
 "cells": [
  {
   "cell_type": "code",
   "execution_count": 2,
   "metadata": {
    "collapsed": false
   },
   "outputs": [],
   "source": [
    "# Writing\n",
    "my_list = [i**2 for i in range(1,11)]\n",
    "\n",
    "my_file = open(\"output.txt\", \"w\")\n",
    "\n",
    "# Add your code below!\n",
    "for i in my_list:\n",
    "    my_file.write(str(i)+\"\\n\")\n",
    "    \n",
    "my_file.close()"
   ]
  },
  {
   "cell_type": "code",
   "execution_count": 3,
   "metadata": {
    "collapsed": false
   },
   "outputs": [
    {
     "name": "stdout",
     "output_type": "stream",
     "text": [
      "1\n",
      "4\n",
      "9\n",
      "16\n",
      "25\n",
      "36\n",
      "49\n",
      "64\n",
      "81\n",
      "100\n",
      "\n"
     ]
    }
   ],
   "source": [
    "# Reading\n",
    "my_file = open(\"output.txt\", \"r\")\n",
    "print my_file.read()\n",
    "my_file.close()"
   ]
  },
  {
   "cell_type": "code",
   "execution_count": 4,
   "metadata": {
    "collapsed": false
   },
   "outputs": [
    {
     "name": "stdout",
     "output_type": "stream",
     "text": [
      "I'm the first line of the file\n",
      "\n",
      "I'm the second line.\n",
      "\n",
      "Third line here, boss.\n",
      "\n"
     ]
    }
   ],
   "source": [
    "# Reading Line by Line\n",
    "my_file = open(\"text.txt\",\"w\")\n",
    "my_file.write(\"I'm the first line of the file\"+ \"\\n\")\n",
    "my_file.write(\"I'm the second line.\"+ \"\\n\")\n",
    "my_file.write(\"Third line here, boss.\"+ \"\\n\")\n",
    "my_file.close()\n",
    "my_file = open(\"text.txt\", \"r\") \n",
    "print my_file.readline()\n",
    "print my_file.readline()\n",
    "print my_file.readline()\n",
    "my_file.close()"
   ]
  },
  {
   "cell_type": "code",
   "execution_count": 5,
   "metadata": {
    "collapsed": false
   },
   "outputs": [
    {
     "name": "stdout",
     "output_type": "stream",
     "text": [
      "Not closing files is VERY BAD.\n"
     ]
    }
   ],
   "source": [
    "# PSA: Buffering Data\n",
    "# During the I/O process, data is buffered: this means that it is held in a temporary location before being written to the file.\n",
    "# Python doesn't flush the buffer—that is, write data to the file—until it's sure we're done writing. \n",
    "# One way to do this is to close the file. If we write to a file without closing, the data won't make it to the target file.\n",
    "\n",
    "\n",
    "# Open the file for reading\n",
    "read_file = open(\"text.txt\", \"r\")\n",
    "\n",
    "# Use a second file handler to open the file for writing\n",
    "write_file = open(\"text.txt\", \"w\")\n",
    "# Write to the file\n",
    "write_file.write(\"Not closing files is VERY BAD.\")\n",
    "\n",
    "write_file.close()\n",
    "\n",
    "# Try to read from the file\n",
    "print read_file.read()\n",
    "read_file.close()"
   ]
  },
  {
   "cell_type": "code",
   "execution_count": 7,
   "metadata": {
    "collapsed": true
   },
   "outputs": [],
   "source": [
    "# Python will automatically close files if we use With with and as\n",
    "# but file objects contain a special pair of built-in methods: __enter__() and __exit__(). \n",
    "# when a file object's __exit__() method is invoked, it automatically closes the file if we use With with and as.\n",
    "\n",
    "with open(\"text.txt\", \"w\") as textfile:\n",
    "    textfile.write(\"Success!\")"
   ]
  },
  {
   "cell_type": "code",
   "execution_count": 8,
   "metadata": {
    "collapsed": false
   },
   "outputs": [
    {
     "name": "stdout",
     "output_type": "stream",
     "text": [
      "True\n"
     ]
    }
   ],
   "source": [
    "# Finally, we'll want a way to test whether a file we've opened is closed.\n",
    "with open(\"text.txt\", \"w\") as my_file:\n",
    "    my_file.write(\"vl\")\n",
    "    if not my_file.closed:\n",
    "        my_file.close()\n",
    "    print my_file.closed"
   ]
  }
 ],
 "metadata": {
  "kernelspec": {
   "display_name": "Python 2",
   "language": "python",
   "name": "python2"
  },
  "language_info": {
   "codemirror_mode": {
    "name": "ipython",
    "version": 2
   },
   "file_extension": ".py",
   "mimetype": "text/x-python",
   "name": "python",
   "nbconvert_exporter": "python",
   "pygments_lexer": "ipython2",
   "version": "2.7.10"
  }
 },
 "nbformat": 4,
 "nbformat_minor": 0
}
