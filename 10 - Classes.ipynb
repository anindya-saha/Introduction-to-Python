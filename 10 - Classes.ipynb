{
 "cells": [
  {
   "cell_type": "code",
   "execution_count": 1,
   "metadata": {
    "collapsed": false
   },
   "outputs": [
    {
     "name": "stdout",
     "output_type": "stream",
     "text": [
      "3\n",
      "True\n"
     ]
    }
   ],
   "source": [
    "class Triangle(object):\n",
    "    number_of_sides = 3\n",
    "    def __init__(self, angle1, angle2, angle3):\n",
    "        self.angle1 = angle1\n",
    "        self.angle2 = angle2\n",
    "        self.angle3 = angle3\n",
    "        \n",
    "        \n",
    "    def check_angles(self):\n",
    "        return self.angle1 + self.angle2 + self.angle3 == 180\n",
    " \n",
    "class Equilateral(Triangle):\n",
    "    angle = 60\n",
    "    def __init__(self):\n",
    "        self.angle1 = self.angle\n",
    "        self.angle2 = self.angle\n",
    "        self.angle3 = self.angle\n",
    "        \n",
    "my_triangle = Triangle(90, 30, 60)\n",
    "print(my_triangle.number_of_sides)\n",
    "print(my_triangle.check_angles())"
   ]
  },
  {
   "cell_type": "code",
   "execution_count": null,
   "metadata": {
    "collapsed": true
   },
   "outputs": [],
   "source": [
    "# Overriding methods\n",
    "class Car(object):\n",
    "    condition = \"new\"\n",
    "    def __init__(self, model, color, mpg):\n",
    "        self.model = model\n",
    "        self.color = color\n",
    "        self.mpg   = mpg\n",
    "\n",
    "    def display_car(self):\n",
    "        return \"This is a \" + self.color + \" \" + self.model + \" with \" + str(self.mpg) + \" MPG.\"\n",
    "        \n",
    "    def drive_car(self):\n",
    "        self.condition = \"used\"\n",
    "\n",
    "class ElectricCar(Car):\n",
    "    \n",
    "    def __init__(self, model, color, mpg, battery_type):\n",
    "        super(ElectricCar, self).__init__(model, color, mpg)\n",
    "        self.battery_type   = battery_type\n",
    "    \n",
    "    def drive_car(self):\n",
    "        self.condition = \"like new\"\n",
    "        \n",
    "my_car = ElectricCar(\"DeLorean\", \"silver\", 88, \"molten salt\")\n",
    "print(my_car.condition)\n",
    "my_car.drive_car()\n",
    "print(my_car.condition)"
   ]
  }
 ],
 "metadata": {
  "kernelspec": {
   "display_name": "Python 2",
   "language": "python",
   "name": "python2"
  },
  "language_info": {
   "codemirror_mode": {
    "name": "ipython",
    "version": 2
   },
   "file_extension": ".py",
   "mimetype": "text/x-python",
   "name": "python",
   "nbconvert_exporter": "python",
   "pygments_lexer": "ipython2",
   "version": "2.7.10"
  }
 },
 "nbformat": 4,
 "nbformat_minor": 0
}
